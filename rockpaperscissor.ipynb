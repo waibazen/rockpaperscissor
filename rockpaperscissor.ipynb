{
 "cells": [
  {
   "cell_type": "code",
   "execution_count": 28,
   "metadata": {},
   "outputs": [
    {
     "name": "stdout",
     "output_type": "stream",
     "text": [
      "Rock, Paper, Scissors...\n"
     ]
    }
   ],
   "source": [
    "# Python Random Module\n",
    "import random\n",
    "\n",
    "# Intro\n",
    "print(\"Rock, Paper, Scissors...\")\n",
    "\n"
   ]
  },
  {
   "cell_type": "code",
   "execution_count": 35,
   "metadata": {},
   "outputs": [
    {
     "name": "stdout",
     "output_type": "stream",
     "text": [
      "your choice: rock\n",
      "I chose Scissors, you chose Rock\n",
      "You win!\n",
      "Do you want to play again? yes or no: daf\n",
      "wrong input!restart program to play\n"
     ]
    }
   ],
   "source": [
    "# Function\n",
    "def try_again():\n",
    "  # Random Choice (Rock, Paper, or Scissors)\n",
    "    RPS = [\"Rock\", \"Paper\", \"Scissors\"]\n",
    "    AI = random.choice(RPS)\n",
    "  # Player's choice\n",
    "    player = input(\"your choice: \").lower().capitalize()  \n",
    "    if player not in RPS:\n",
    "          print(\"wrong input!try \\\"Rock\\\" or \\\"Paper\\\" or \\\"Scissors\\\"\")   \n",
    "    \n",
    "\n",
    "# If the program chose rock\n",
    "    if AI == \"Rock\":\n",
    "    \t# If the player chose rock\n",
    "        if player == \"Rock\":\n",
    "            print(f\"I chose {AI}, you chose {player}\\nit's a tie!\")\n",
    "        # If the player chose paper\n",
    "        elif player == \"Paper\":\n",
    "            print(f\"I chose {AI}, you chose {player}\\nYou win!\")\n",
    "        # If the player chose scissors\n",
    "        elif player == \"Scissors\":\n",
    "            print(f\"I chose {AI}, you chose {player}\\nI win!\")\n",
    "\n",
    "  # If the program chose paper\n",
    "    elif AI == \"Paper\":\n",
    "    \t# If the player chose rock\n",
    "        if player == \"Rock\":\n",
    "            print(f\"I chose {AI}, you chose {player}\\nI win!\")\n",
    "        # If the player chose paper\n",
    "        elif player == \"Paper\":\n",
    "            print(f\"I chose {AI}, you chose {player}\\nIt's a tie!\")\n",
    "        # If the player chose scissors\n",
    "        elif player == \"Scissors\":\n",
    "            print(f\"I chose {AI}, you chose {player}\\nYou win!\")\n",
    "# If the program chose scissors\n",
    "    elif AI == \"Scissors\":\n",
    "    \t# If the player chose rock\n",
    "        if player == \"Rock\":\n",
    "            print(f\"I chose {AI}, you chose {player}\\nYou win!\")\n",
    "        # If the player chose paper\n",
    "        elif player == \"Paper\":\n",
    "            print(f\"I chose {AI}, you chose {player}\\nI win!\")\n",
    "        # If the player chose scissors\n",
    "        elif player == \"Scissors\":\n",
    "            print(f\"I chose {AI}, you chose {player}\\nIt's a tie\") \n",
    "\n",
    "  # If the player wants to play again\n",
    "    play_again = input(\"Do you want to play again? yes or no: \").lower().capitalize()\n",
    "    # If the player says yes, go back to the function\n",
    "    if play_again == \"Yes\":\n",
    "        try_again()\n",
    "    # If the player says no, say goodbye\n",
    "    elif play_again == \"No\":\n",
    "        print(\"Goodbye\")\n",
    "    else:\n",
    "        print(\"wrong input!restart program to play\")\n",
    "       \n",
    "# End of function\n",
    "try_again()"
   ]
  },
  {
   "cell_type": "code",
   "execution_count": null,
   "metadata": {},
   "outputs": [],
   "source": []
  }
 ],
 "metadata": {
  "kernelspec": {
   "display_name": "Python 3",
   "language": "python",
   "name": "python3"
  },
  "language_info": {
   "codemirror_mode": {
    "name": "ipython",
    "version": 3
   },
   "file_extension": ".py",
   "mimetype": "text/x-python",
   "name": "python",
   "nbconvert_exporter": "python",
   "pygments_lexer": "ipython3",
   "version": "3.7.6"
  }
 },
 "nbformat": 4,
 "nbformat_minor": 4
}
